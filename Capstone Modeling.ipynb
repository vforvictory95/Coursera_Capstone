{
    "cells": [
        {
            "metadata": {},
            "cell_type": "code",
            "source": "import itertools\nimport numpy as np\nimport matplotlib.pyplot as plt\nfrom matplotlib.ticker import NullFormatter\nimport pandas as pd\nimport numpy as np\nimport matplotlib.ticker as ticker\nfrom sklearn import preprocessing\n%matplotlib inline",
            "execution_count": 1,
            "outputs": []
        },
        {
            "metadata": {},
            "cell_type": "code",
            "source": "df_collide = pd.read_csv('https://s3.us.cloud-object-storage.appdomain.cloud/cf-courses-data/CognitiveClass/DP0701EN/version-2/Data-Collisions.csv')\nprint('Data read!')",
            "execution_count": 2,
            "outputs": [
                {
                    "output_type": "stream",
                    "text": "/opt/conda/envs/Python36/lib/python3.6/site-packages/IPython/core/interactiveshell.py:3020: DtypeWarning: Columns (33) have mixed types. Specify dtype option on import or set low_memory=False.\n  interactivity=interactivity, compiler=compiler, result=result)\n",
                    "name": "stderr"
                },
                {
                    "output_type": "stream",
                    "text": "Data read!\n",
                    "name": "stdout"
                }
            ]
        },
        {
            "metadata": {},
            "cell_type": "code",
            "source": "import matplotlib.pyplot as plt\nimport seaborn as sns\n%matplotlib inline",
            "execution_count": 3,
            "outputs": []
        },
        {
            "metadata": {},
            "cell_type": "code",
            "source": "df_collide.info()",
            "execution_count": 4,
            "outputs": [
                {
                    "output_type": "stream",
                    "text": "<class 'pandas.core.frame.DataFrame'>\nRangeIndex: 194673 entries, 0 to 194672\nData columns (total 38 columns):\nSEVERITYCODE      194673 non-null int64\nX                 189339 non-null float64\nY                 189339 non-null float64\nOBJECTID          194673 non-null int64\nINCKEY            194673 non-null int64\nCOLDETKEY         194673 non-null int64\nREPORTNO          194673 non-null object\nSTATUS            194673 non-null object\nADDRTYPE          192747 non-null object\nINTKEY            65070 non-null float64\nLOCATION          191996 non-null object\nEXCEPTRSNCODE     84811 non-null object\nEXCEPTRSNDESC     5638 non-null object\nSEVERITYCODE.1    194673 non-null int64\nSEVERITYDESC      194673 non-null object\nCOLLISIONTYPE     189769 non-null object\nPERSONCOUNT       194673 non-null int64\nPEDCOUNT          194673 non-null int64\nPEDCYLCOUNT       194673 non-null int64\nVEHCOUNT          194673 non-null int64\nINCDATE           194673 non-null object\nINCDTTM           194673 non-null object\nJUNCTIONTYPE      188344 non-null object\nSDOT_COLCODE      194673 non-null int64\nSDOT_COLDESC      194673 non-null object\nINATTENTIONIND    29805 non-null object\nUNDERINFL         189789 non-null object\nWEATHER           189592 non-null object\nROADCOND          189661 non-null object\nLIGHTCOND         189503 non-null object\nPEDROWNOTGRNT     4667 non-null object\nSDOTCOLNUM        114936 non-null float64\nSPEEDING          9333 non-null object\nST_COLCODE        194655 non-null object\nST_COLDESC        189769 non-null object\nSEGLANEKEY        194673 non-null int64\nCROSSWALKKEY      194673 non-null int64\nHITPARKEDCAR      194673 non-null object\ndtypes: float64(4), int64(12), object(22)\nmemory usage: 56.4+ MB\n",
                    "name": "stdout"
                }
            ]
        },
        {
            "metadata": {},
            "cell_type": "code",
            "source": "df_coll = df_collide[\"COLLISIONTYPE\"].value_counts()\ndf_coll",
            "execution_count": 18,
            "outputs": [
                {
                    "output_type": "execute_result",
                    "execution_count": 18,
                    "data": {
                        "text/plain": "Parked Car    47987\nAngles        34674\nRear Ended    34090\nOther         23703\nSideswipe     18609\nLeft Turn     13703\nPedestrian     6608\nCycles         5415\nRight Turn     2956\nHead On        2024\nName: COLLISIONTYPE, dtype: int64"
                    },
                    "metadata": {}
                }
            ]
        },
        {
            "metadata": {},
            "cell_type": "markdown",
            "source": "Given how many variables there are, I will only choose those with 10,000+. Other not included."
        },
        {
            "metadata": {},
            "cell_type": "code",
            "source": "#We only need a few columns\ndf2 = df_collide[[\"SEVERITYCODE\",\"ROADCOND\",\"COLLISIONTYPE\",\"LIGHTCOND\"]]",
            "execution_count": 17,
            "outputs": []
        },
        {
            "metadata": {},
            "cell_type": "code",
            "source": "#We only need a few types of each column\n\ndf3 = df2[(df2[\"ROADCOND\"]==\"Dry\")|(df2[\"ROADCOND\"]==\"Wet\") | (df2[\"ROADCOND\"]==\"Ice\")|(df2[\"ROADCOND\"]==\"Snow/Slush\") | \\\n          (df2[\"ROADCOND\"]==\"Standing Water\")]\n#\n\ndf4 = df3[(df3[\"LIGHTCOND\"]==\"Daylight\") | (df3[\"LIGHTCOND\"]==\"Dark - Street Lights On\") | \\\n          (df3[\"LIGHTCOND\"]==\"Dusk\") | (df3[\"LIGHTCOND\"]==\"Dawn\") | (df3[\"LIGHTCOND\"]==\"Dark - No Street Lights\") | \\\n          (df3[\"LIGHTCOND\"]==\"Dark Street Lights Off\")]\n\n#Just df to make it easier\ndf = df4[(df4[\"COLLISIONTYPE\"]==\"Parked Car\") | (df4[\"COLLISIONTYPE\"]==\"Angles\") | (df4[\"COLLISIONTYPE\"]==\"Rear Ended\") | \\\n         (df4[\"COLLISIONTYPE\"]==\"Sideswipe\") | \\\n        (df4[\"COLLISIONTYPE\"]==\"Left Turn\")]",
            "execution_count": 24,
            "outputs": []
        },
        {
            "metadata": {},
            "cell_type": "code",
            "source": "df_road_conv = df[\"ROADCOND\"].value_counts().to_frame().reset_index()\ndf_road_conv.index+=1\ndf_road_conv",
            "execution_count": 25,
            "outputs": [
                {
                    "output_type": "execute_result",
                    "execution_count": 25,
                    "data": {
                        "text/plain": "            index  ROADCOND\n1             Dry     95215\n2             Wet     34717\n3             Ice       631\n4      Snow/Slush       585\n5  Standing Water        48",
                        "text/html": "<div>\n<style scoped>\n    .dataframe tbody tr th:only-of-type {\n        vertical-align: middle;\n    }\n\n    .dataframe tbody tr th {\n        vertical-align: top;\n    }\n\n    .dataframe thead th {\n        text-align: right;\n    }\n</style>\n<table border=\"1\" class=\"dataframe\">\n  <thead>\n    <tr style=\"text-align: right;\">\n      <th></th>\n      <th>index</th>\n      <th>ROADCOND</th>\n    </tr>\n  </thead>\n  <tbody>\n    <tr>\n      <th>1</th>\n      <td>Dry</td>\n      <td>95215</td>\n    </tr>\n    <tr>\n      <th>2</th>\n      <td>Wet</td>\n      <td>34717</td>\n    </tr>\n    <tr>\n      <th>3</th>\n      <td>Ice</td>\n      <td>631</td>\n    </tr>\n    <tr>\n      <th>4</th>\n      <td>Snow/Slush</td>\n      <td>585</td>\n    </tr>\n    <tr>\n      <th>5</th>\n      <td>Standing Water</td>\n      <td>48</td>\n    </tr>\n  </tbody>\n</table>\n</div>"
                    },
                    "metadata": {}
                }
            ]
        },
        {
            "metadata": {},
            "cell_type": "code",
            "source": "df_light_conv = df[\"LIGHTCOND\"].value_counts().to_frame().reset_index()\ndf_light_conv.index+=1\ndf_light_conv",
            "execution_count": 26,
            "outputs": [
                {
                    "output_type": "execute_result",
                    "execution_count": 26,
                    "data": {
                        "text/plain": "                     index  LIGHTCOND\n1                 Daylight      89676\n2  Dark - Street Lights On      34361\n3                     Dusk       4458\n4                     Dawn       1709\n5  Dark - No Street Lights        992",
                        "text/html": "<div>\n<style scoped>\n    .dataframe tbody tr th:only-of-type {\n        vertical-align: middle;\n    }\n\n    .dataframe tbody tr th {\n        vertical-align: top;\n    }\n\n    .dataframe thead th {\n        text-align: right;\n    }\n</style>\n<table border=\"1\" class=\"dataframe\">\n  <thead>\n    <tr style=\"text-align: right;\">\n      <th></th>\n      <th>index</th>\n      <th>LIGHTCOND</th>\n    </tr>\n  </thead>\n  <tbody>\n    <tr>\n      <th>1</th>\n      <td>Daylight</td>\n      <td>89676</td>\n    </tr>\n    <tr>\n      <th>2</th>\n      <td>Dark - Street Lights On</td>\n      <td>34361</td>\n    </tr>\n    <tr>\n      <th>3</th>\n      <td>Dusk</td>\n      <td>4458</td>\n    </tr>\n    <tr>\n      <th>4</th>\n      <td>Dawn</td>\n      <td>1709</td>\n    </tr>\n    <tr>\n      <th>5</th>\n      <td>Dark - No Street Lights</td>\n      <td>992</td>\n    </tr>\n  </tbody>\n</table>\n</div>"
                    },
                    "metadata": {}
                }
            ]
        },
        {
            "metadata": {},
            "cell_type": "code",
            "source": "df_collision_conv = df[\"COLLISIONTYPE\"].value_counts().to_frame().reset_index()\ndf_collision_conv.index+=1\ndf_collision_conv",
            "execution_count": 27,
            "outputs": [
                {
                    "output_type": "execute_result",
                    "execution_count": 27,
                    "data": {
                        "text/plain": "        index  COLLISIONTYPE\n1      Angles          33758\n2  Parked Car          33755\n3  Rear Ended          32670\n4   Sideswipe          17650\n5   Left Turn          13363",
                        "text/html": "<div>\n<style scoped>\n    .dataframe tbody tr th:only-of-type {\n        vertical-align: middle;\n    }\n\n    .dataframe tbody tr th {\n        vertical-align: top;\n    }\n\n    .dataframe thead th {\n        text-align: right;\n    }\n</style>\n<table border=\"1\" class=\"dataframe\">\n  <thead>\n    <tr style=\"text-align: right;\">\n      <th></th>\n      <th>index</th>\n      <th>COLLISIONTYPE</th>\n    </tr>\n  </thead>\n  <tbody>\n    <tr>\n      <th>1</th>\n      <td>Angles</td>\n      <td>33758</td>\n    </tr>\n    <tr>\n      <th>2</th>\n      <td>Parked Car</td>\n      <td>33755</td>\n    </tr>\n    <tr>\n      <th>3</th>\n      <td>Rear Ended</td>\n      <td>32670</td>\n    </tr>\n    <tr>\n      <th>4</th>\n      <td>Sideswipe</td>\n      <td>17650</td>\n    </tr>\n    <tr>\n      <th>5</th>\n      <td>Left Turn</td>\n      <td>13363</td>\n    </tr>\n  </tbody>\n</table>\n</div>"
                    },
                    "metadata": {}
                }
            ]
        },
        {
            "metadata": {},
            "cell_type": "code",
            "source": "df = df.replace({\"ROADCOND\" : { \"Dry\" : 1, \"Wet\" : 2, \"Ice\" : 3, \"Snow/Slush\" : 4, \"Standing Water\" : 5 }})\ndf = df.replace({\"LIGHTCOND\" : { \"Daylight\" : 1, \"Dark - Street Lights On\" : 2, \"Dusk\" : 3, \"Dawn\" : 4, \"Dark - No Street Lights\" : 5 }})\ndf = df.replace({\"COLLISIONTYPE\" : { \"Angles\" : 1, \"Parked Car\" : 2, \"Rear Ended\" : 3, \"Sideswipe\" : 4, \"Left Turn\" : 5}})\n\ndf.head()",
            "execution_count": 28,
            "outputs": [
                {
                    "output_type": "execute_result",
                    "execution_count": 28,
                    "data": {
                        "text/plain": "   SEVERITYCODE  ROADCOND  COLLISIONTYPE  LIGHTCOND\n0             2         2              1          1\n1             1         2              4          2\n2             1         1              2          1\n4             2         2              1          1\n5             1         1              1          1",
                        "text/html": "<div>\n<style scoped>\n    .dataframe tbody tr th:only-of-type {\n        vertical-align: middle;\n    }\n\n    .dataframe tbody tr th {\n        vertical-align: top;\n    }\n\n    .dataframe thead th {\n        text-align: right;\n    }\n</style>\n<table border=\"1\" class=\"dataframe\">\n  <thead>\n    <tr style=\"text-align: right;\">\n      <th></th>\n      <th>SEVERITYCODE</th>\n      <th>ROADCOND</th>\n      <th>COLLISIONTYPE</th>\n      <th>LIGHTCOND</th>\n    </tr>\n  </thead>\n  <tbody>\n    <tr>\n      <th>0</th>\n      <td>2</td>\n      <td>2</td>\n      <td>1</td>\n      <td>1</td>\n    </tr>\n    <tr>\n      <th>1</th>\n      <td>1</td>\n      <td>2</td>\n      <td>4</td>\n      <td>2</td>\n    </tr>\n    <tr>\n      <th>2</th>\n      <td>1</td>\n      <td>1</td>\n      <td>2</td>\n      <td>1</td>\n    </tr>\n    <tr>\n      <th>4</th>\n      <td>2</td>\n      <td>2</td>\n      <td>1</td>\n      <td>1</td>\n    </tr>\n    <tr>\n      <th>5</th>\n      <td>1</td>\n      <td>1</td>\n      <td>1</td>\n      <td>1</td>\n    </tr>\n  </tbody>\n</table>\n</div>"
                    },
                    "metadata": {}
                }
            ]
        },
        {
            "metadata": {},
            "cell_type": "code",
            "source": "#Creating variables for the model\nX = df.drop([\"SEVERITYCODE\"],axis=1)",
            "execution_count": 29,
            "outputs": []
        },
        {
            "metadata": {},
            "cell_type": "code",
            "source": "y = df['SEVERITYCODE'].values\ny[0:5]",
            "execution_count": 30,
            "outputs": [
                {
                    "output_type": "execute_result",
                    "execution_count": 30,
                    "data": {
                        "text/plain": "array([2, 1, 1, 2, 1])"
                    },
                    "metadata": {}
                }
            ]
        },
        {
            "metadata": {},
            "cell_type": "code",
            "source": "from sklearn.model_selection import train_test_split\nfrom sklearn.neighbors import KNeighborsClassifier\nfrom sklearn import metrics\nX_train, X_test, y_train, y_test = train_test_split( X, y, test_size=0.4, random_state=4)\nprint ('Train set:', X_train.shape,  y_train.shape)\nprint ('Test set:', X_test.shape,  y_test.shape)",
            "execution_count": 34,
            "outputs": [
                {
                    "output_type": "stream",
                    "text": "Train set: (78717, 3) (78717,)\nTest set: (52479, 3) (52479,)\n",
                    "name": "stdout"
                }
            ]
        },
        {
            "metadata": {},
            "cell_type": "code",
            "source": "Ks = 10\nmean_acc = np.zeros((Ks-1))\nstd_acc = np.zeros((Ks-1))\nConfustionMx = [];\nfor n in range(1,Ks):\n    \n    #Train Model and Predict  \n    loan = KNeighborsClassifier(n_neighbors = n).fit(X_train,y_train)\n    yhat=loan.predict(X_test)\n    mean_acc[n-1] = metrics.accuracy_score(y_test, yhat)\n\n    \n    std_acc[n-1]=np.std(yhat==y_test)/np.sqrt(yhat.shape[0])\n\nmean_acc",
            "execution_count": 32,
            "outputs": [
                {
                    "output_type": "execute_result",
                    "execution_count": 32,
                    "data": {
                        "text/plain": "array([0.66242366, 0.68370857, 0.68012615, 0.69356975, 0.68797698,\n       0.70602247, 0.69378888, 0.69765714, 0.69716169])"
                    },
                    "metadata": {}
                }
            ]
        },
        {
            "metadata": {},
            "cell_type": "code",
            "source": "plt.plot(range(1,Ks),mean_acc,'g')\nplt.fill_between(range(1,Ks),mean_acc - 1 * std_acc,mean_acc + 1 * std_acc, alpha=0.10)\nplt.legend(('Accuracy ', '+/- 3xstd'))\nplt.ylabel('Accuracy ')\nplt.xlabel('Number of Nabors (K)')\nplt.tight_layout()\nplt.show()",
            "execution_count": 15,
            "outputs": [
                {
                    "output_type": "display_data",
                    "data": {
                        "text/plain": "<Figure size 432x288 with 1 Axes>",
                        "image/png": "[encoded data removed]"
                    },
                    "metadata": {
                        "needs_background": "light"
                    }
                }
            ]
        },
        {
            "metadata": {},
            "cell_type": "code",
            "source": "print( \"The best accuracy was with\", mean_acc.max(), \"with k=\", mean_acc.argmax()+1) ",
            "execution_count": 33,
            "outputs": [
                {
                    "output_type": "stream",
                    "text": "The best accuracy was with 0.7060224663433596 with k= 6\n",
                    "name": "stdout"
                }
            ]
        },
        {
            "metadata": {},
            "cell_type": "code",
            "source": "",
            "execution_count": null,
            "outputs": []
        }
    ],
    "metadata": {
        "kernelspec": {
            "name": "python3",
            "display_name": "Python 3.6",
            "language": "python"
        },
        "language_info": {
            "name": "python",
            "version": "3.6.9",
            "mimetype": "text/x-python",
            "codemirror_mode": {
                "name": "ipython",
                "version": 3
            },
            "pygments_lexer": "ipython3",
            "nbconvert_exporter": "python",
            "file_extension": ".py"
        }
    },
    "nbformat": 4,
    "nbformat_minor": 1
}